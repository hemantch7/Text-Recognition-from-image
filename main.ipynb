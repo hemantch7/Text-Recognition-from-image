{
 "cells": [
  {
   "cell_type": "code",
   "execution_count": 1,
   "metadata": {},
   "outputs": [
    {
     "name": "stderr",
     "output_type": "stream",
     "text": [
      "Using TensorFlow backend.\n"
     ]
    }
   ],
   "source": [
    "import numpy as np\n",
    "import pickle\n",
    "import keras\n",
    "import cv2\n",
    "from keras.models import Sequential,load_model\n",
    "from keras.layers import Activation, Dense, Flatten, BatchNormalization, Conv2D, MaxPool2D\n",
    "from keras.optimizers import Adam\n",
    "from keras.metrics import categorical_crossentropy\n",
    "from keras.preprocessing.image import ImageDataGenerator,array_to_img,img_to_array,load_img\n",
    "import os\n",
    "import matplotlib.pyplot as plt"
   ]
  },
  {
   "cell_type": "code",
   "execution_count": 2,
   "metadata": {},
   "outputs": [],
   "source": [
    "train_dir=r'C:\\Users\\hemant\\Downloads\\Compressed\\balanced emnist'      #putting r in beginning to convert normal string to raw string which considers \\ as part of string\n",
    "val_dir=r'C:\\Users\\hemant\\Downloads\\Compressed\\EMNIST\\Validation'\n",
    "classes=['0', '1', '2', '3', '4', '5', '6', '7', '8', '9', 'A', 'B', 'C', 'D', 'E', 'F', 'G', 'H', 'I', 'J', 'K', 'L', 'M', 'N', 'P', 'Q', 'R', 'S', 'T', 'U', 'V', 'W', 'X', 'Y', 'Z']"
   ]
  },
  {
   "cell_type": "code",
   "execution_count": null,
   "metadata": {},
   "outputs": [],
   "source": [
    "train_data=[]\n",
    "train_label=[]\n",
    "\n",
    "for ele in classes:\n",
    "    class_path=os.path.join(train_dir,ele)\n",
    "    class_label=classes.index(ele)                       ##using index as label.\n",
    "    directory = os.listdir(class_path)\n",
    "    np.random.shuffle(directory)\n",
    "    limit=np.min((len(directory),8000))\n",
    "    for img in directory[:limit]:\n",
    "        image=cv2.imread(os.path.join(class_path,img))\n",
    "        image=cv2.cvtColor(image,cv2.COLOR_BGR2GRAY)\n",
    "        train_data.append(image)\n",
    "        train_label.append(class_label)\n",
    "        "
   ]
  },
  {
   "cell_type": "code",
   "execution_count": null,
   "metadata": {},
   "outputs": [],
   "source": [
    "# to save train lists\n",
    "file = \"train_data_list_8000.pkl\"\n",
    "fileobj=open(file,'wb')\n",
    "pickle.dump(train_data,fileobj)\n",
    "fileobj.close()\n",
    "\n",
    "file = \"train_label_list_8000.pkl\"\n",
    "fileobj=open(file,'wb')\n",
    "pickle.dump(train_label,fileobj)\n",
    "fileobj.close()"
   ]
  },
  {
   "cell_type": "code",
   "execution_count": null,
   "metadata": {},
   "outputs": [],
   "source": [
    "val_data=[]\n",
    "val_label=[]\n",
    "for ele in classes:\n",
    "    class_path=os.path.join(val_dir,ele)\n",
    "    class_label=classes.index(ele)                       ##using index as label.\n",
    "    for img in os.listdir(class_path):\n",
    "        image=cv2.imread(os.path.join(class_path,img))\n",
    "        image=cv2.cvtColor(image,cv2.COLOR_BGR2GRAY)\n",
    "        \n",
    "        val_data.append(image)\n",
    "        val_label.append(class_label)"
   ]
  },
  {
   "cell_type": "code",
   "execution_count": null,
   "metadata": {},
   "outputs": [],
   "source": [
    "#to save val lists\n",
    "file = \"val_data_list_8000.pkl\"\n",
    "fileobj=open(file,'wb')\n",
    "pickle.dump(val_data,fileobj)\n",
    "fileobj.close()\n",
    "\n",
    "file = \"val_label_list_8000.pkl\"\n",
    "fileobj=open(file,'wb')\n",
    "pickle.dump(val_label,fileobj)\n",
    "fileobj.close()"
   ]
  },
  {
   "cell_type": "code",
   "execution_count": null,
   "metadata": {},
   "outputs": [],
   "source": [
    "#to load train_data list\n",
    "file=\"train_data_list_8000.pkl\"\n",
    "fileobj=open(file,'rb')\n",
    "train_data=pickle.load(fileobj)\n",
    "\n",
    "#to load train_label\n",
    "file=\"train_label_list_8000.pkl\"\n",
    "fileobj=open(file,'rb')\n",
    "train_label=pickle.load(fileobj)\n"
   ]
  },
  {
   "cell_type": "code",
   "execution_count": null,
   "metadata": {},
   "outputs": [],
   "source": [
    "#to load val data list\n",
    "file=\"val_data_list_8000.pkl\"\n",
    "fileobj=open(file,'rb')\n",
    "val_data=pickle.load(fileobj)\n",
    "\n",
    "#to load val label list\n",
    "file=\"val_label_list_8000.pkl\"\n",
    "fileobj=open(file,'rb')\n",
    "val_label=pickle.load(fileobj)"
   ]
  },
  {
   "cell_type": "code",
   "execution_count": null,
   "metadata": {},
   "outputs": [],
   "source": [
    "no_of_train_samples=len(train_data)\n",
    "no_of_val_samples=len(val_data)"
   ]
  },
  {
   "cell_type": "code",
   "execution_count": null,
   "metadata": {},
   "outputs": [],
   "source": [
    "train_data=np.array(train_data)\n",
    "train_label=np.array(train_label)\n",
    "\n",
    "val_data=np.array(val_data)\n",
    "val_label=np.array(val_label)"
   ]
  },
  {
   "cell_type": "code",
   "execution_count": null,
   "metadata": {},
   "outputs": [],
   "source": [
    "from keras.utils import to_categorical\n",
    "train_label=to_categorical(train_label)\n",
    "val_label=to_categorical(val_label)"
   ]
  },
  {
   "cell_type": "code",
   "execution_count": null,
   "metadata": {},
   "outputs": [],
   "source": [
    "#print(train_label[0])\n",
    "#print(val_label[0])"
   ]
  },
  {
   "cell_type": "code",
   "execution_count": null,
   "metadata": {},
   "outputs": [],
   "source": [
    "train_data=train_data.reshape(no_of_train_samples,32,32,1)\n",
    "val_data=val_data.reshape(no_of_val_samples,32,32,1)\n",
    "from sklearn.utils import shuffle\n",
    "train_data,train_label=shuffle(train_data,train_label)"
   ]
  },
  {
   "cell_type": "code",
   "execution_count": null,
   "metadata": {},
   "outputs": [],
   "source": [
    "print(train_data.shape)"
   ]
  },
  {
   "cell_type": "code",
   "execution_count": null,
   "metadata": {},
   "outputs": [],
   "source": [
    "model=Sequential()"
   ]
  },
  {
   "cell_type": "code",
   "execution_count": null,
   "metadata": {},
   "outputs": [],
   "source": [
    "layer_1 = Conv2D(32, kernel_size=3, activation='relu', input_shape=(32,32,1))\n",
    "layer_2 = Conv2D(64, kernel_size=3, activation='relu')\n",
    "layer_3 = Flatten()\n",
    "layer_4 = Dense(35, activation='softmax')"
   ]
  },
  {
   "cell_type": "code",
   "execution_count": null,
   "metadata": {},
   "outputs": [],
   "source": [
    "model.add(layer_1)\n",
    "model.add(layer_2)\n",
    "model.add(layer_3)\n",
    "model.add(layer_4)"
   ]
  },
  {
   "cell_type": "code",
   "execution_count": null,
   "metadata": {},
   "outputs": [],
   "source": [
    "model.compile(optimizer='adam', loss='categorical_crossentropy', metrics=['accuracy'])"
   ]
  },
  {
   "cell_type": "code",
   "execution_count": null,
   "metadata": {},
   "outputs": [],
   "source": [
    "model.summary()\n"
   ]
  },
  {
   "cell_type": "code",
   "execution_count": null,
   "metadata": {},
   "outputs": [],
   "source": [
    "print(train_data.shape)\n",
    "print(val_data.shape)"
   ]
  },
  {
   "cell_type": "code",
   "execution_count": null,
   "metadata": {},
   "outputs": [],
   "source": [
    "model.fit(x=train_data,y=train_label,validation_data=(val_data,val_label),epochs=5)       "
   ]
  },
  {
   "cell_type": "code",
   "execution_count": null,
   "metadata": {},
   "outputs": [],
   "source": [
    "model.save('model1.h5')      #model1 val_acc ~87%"
   ]
  },
  {
   "cell_type": "code",
   "execution_count": 3,
   "metadata": {},
   "outputs": [],
   "source": [
    "model=load_model('model1.h5')"
   ]
  },
  {
   "cell_type": "code",
   "execution_count": null,
   "metadata": {},
   "outputs": [],
   "source": [
    "#for testing on images from validation set\n",
    "test_list=[]\n",
    "\n",
    "test_dir=r'C:\\Users\\hemant\\Desktop\\test'\n",
    "for img in os.listdir(test_dir):\n",
    "    image=cv2.imread(os.path.join(test_dir,img))\n",
    "    image=cv2.cvtColor(image,cv2.COLOR_BGR2GRAY)\n",
    "    test_list.append(image)\n",
    "    \n"
   ]
  },
  {
   "cell_type": "code",
   "execution_count": 4,
   "metadata": {},
   "outputs": [
    {
     "data": {
      "text/plain": [
       "'\\nfor img in test_images:\\n    plt.imshow(img)\\n    plt.show()\\n'"
      ]
     },
     "execution_count": 4,
     "metadata": {},
     "output_type": "execute_result"
    }
   ],
   "source": [
    "#preprocessing\n",
    "test_images=[]                                 #to store processed digits and characters images\n",
    "contour_coordinates=[]                         # to store coordinates of contours for putting text\n",
    "img = cv2.imread(\"test3.png\")\n",
    "img_original=img\n",
    "original_width,original_height,_=img_original.shape\n",
    "img=cv2.GaussianBlur(img,(5,5),0)\n",
    "img= cv2.cvtColor(img,cv2.COLOR_BGR2GRAY)\n",
    "_, img = cv2.threshold(img, 80, 255, cv2.THRESH_BINARY_INV)     #for converting to white digit and blackbackground\n",
    "\n",
    "\n",
    "_, contours, _ = cv2.findContours(img, cv2.RETR_EXTERNAL, cv2.CHAIN_APPROX_SIMPLE)\n",
    "\n",
    "cv2.drawContours(img_original,contours,-1,(0,0,255),2)\n",
    "\n",
    "for cnt in contours:\n",
    "    x,y,w,h = cv2.boundingRect(cnt)\n",
    "    if w>=original_width-10 or h>=original_height-10:          #to ignore the contour of whole image\n",
    "        continue\n",
    "    contour_coordinates.append([x,y,w,h])\n",
    "    cv2.rectangle(img_original,(x,y),(x+w,y+h),(0,255,0),4)\n",
    "    cropped=img[y:y+h,x:x+w]\n",
    "    \n",
    "    kernel=np.ones((5,5),np.uint8)\n",
    "    cropped=cv2.dilate(cropped,kernel,iterations=1)\n",
    "   \n",
    "    cropped=cv2.resize(cropped,(22,22))\n",
    "    \n",
    "    padded=np.pad(cropped, (5,5), \"constant\", constant_values=0)   #to put digit in center of image\n",
    "   \n",
    "    test_images.append(padded)\n",
    "  \n",
    "cv2.imshow(\"originl\",img_original)\n",
    "cv2.waitKey(0)\n",
    "cv2.destroyAllWindows()\n",
    "'''\n",
    "for img in test_images:\n",
    "    plt.imshow(img)\n",
    "    plt.show()\n",
    "'''"
   ]
  },
  {
   "cell_type": "code",
   "execution_count": 5,
   "metadata": {},
   "outputs": [],
   "source": [
    "test_images=np.array(test_images)\n",
    "test_images=test_images.reshape(len(test_images),32,32,1)\n",
    "predictions=model.predict(test_images)\n"
   ]
  },
  {
   "cell_type": "code",
   "execution_count": 6,
   "metadata": {},
   "outputs": [
    {
     "data": {
      "image/png": "[encoded data removed]",
      "text/plain": [
       "<Figure size 432x288 with 1 Axes>"
      ]
     },
     "metadata": {
      "needs_background": "light"
     },
     "output_type": "display_data"
    },
    {
     "data": {
      "image/png": "[encoded data removed]",
      "text/plain": [
       "<Figure size 432x288 with 1 Axes>"
      ]
     },
     "metadata": {
      "needs_background": "light"
     },
     "output_type": "display_data"
    },
    {
     "data": {
      "image/png": "[encoded data removed]",
      "text/plain": [
       "<Figure size 432x288 with 1 Axes>"
      ]
     },
     "metadata": {
      "needs_background": "light"
     },
     "output_type": "display_data"
    },
    {
     "data": {
      "image/png": "[encoded data removed]",
      "text/plain": [
       "<Figure size 432x288 with 1 Axes>"
      ]
     },
     "metadata": {
      "needs_background": "light"
     },
     "output_type": "display_data"
    },
    {
     "data": {
      "image/png": "[encoded data removed]",
      "text/plain": [
       "<Figure size 432x288 with 1 Axes>"
      ]
     },
     "metadata": {
      "needs_background": "light"
     },
     "output_type": "display_data"
    },
    {
     "data": {
      "image/png": "[encoded data removed]",
      "text/plain": [
       "<Figure size 432x288 with 1 Axes>"
      ]
     },
     "metadata": {
      "needs_background": "light"
     },
     "output_type": "display_data"
    },
    {
     "data": {
      "image/png": "[encoded data removed]",
      "text/plain": [
       "<Figure size 432x288 with 1 Axes>"
      ]
     },
     "metadata": {
      "needs_background": "light"
     },
     "output_type": "display_data"
    },
    {
     "data": {
      "image/png": "[encoded data removed]",
      "text/plain": [
       "<Figure size 432x288 with 1 Axes>"
      ]
     },
     "metadata": {
      "needs_background": "light"
     },
     "output_type": "display_data"
    },
    {
     "data": {
      "image/png": "[encoded data removed]",
      "text/plain": [
       "<Figure size 432x288 with 1 Axes>"
      ]
     },
     "metadata": {
      "needs_background": "light"
     },
     "output_type": "display_data"
    },
    {
     "data": {
      "image/png": "[encoded data removed]",
      "text/plain": [
       "<Figure size 432x288 with 1 Axes>"
      ]
     },
     "metadata": {
      "needs_background": "light"
     },
     "output_type": "display_data"
    },
    {
     "data": {
      "image/png": "[encoded data removed]",
      "text/plain": [
       "<Figure size 432x288 with 1 Axes>"
      ]
     },
     "metadata": {
      "needs_background": "light"
     },
     "output_type": "display_data"
    },
    {
     "data": {
      "image/png": "[encoded data removed]",
      "text/plain": [
       "<Figure size 432x288 with 1 Axes>"
      ]
     },
     "metadata": {
      "needs_background": "light"
     },
     "output_type": "display_data"
    },
    {
     "data": {
      "image/png": "[encoded data removed]",
      "text/plain": [
       "<Figure size 432x288 with 1 Axes>"
      ]
     },
     "metadata": {
      "needs_background": "light"
     },
     "output_type": "display_data"
    },
    {
     "data": {
      "image/png": "[encoded data removed]",
      "text/plain": [
       "<Figure size 432x288 with 1 Axes>"
      ]
     },
     "metadata": {
      "needs_background": "light"
     },
     "output_type": "display_data"
    }
   ],
   "source": [
    "#plot images and prediction using matlab\n",
    "i=0                                                             #for iterating in predictions\n",
    "for img in test_images:\n",
    "    plt.imshow(img,cmap=\"gray\")\n",
    "    res=classes[np.argmax(predictions[i])]\n",
    "    i+=1\n",
    "    plt.title(res)\n",
    "    plt.show()"
   ]
  },
  {
   "cell_type": "code",
   "execution_count": 7,
   "metadata": {},
   "outputs": [],
   "source": [
    "#put predictions on original image\n",
    "import math\n",
    "for val in contour_coordinates:\n",
    "    x,y,w,h=val\n",
    "    \n",
    "    text=str(classes[np.argmax(predictions[contour_coordinates.index(val)])])\n",
    "    org=(math.floor(x+w//2),y-5)\n",
    "    img_original=cv2.putText(img_original,text,org,cv2.FONT_HERSHEY_SIMPLEX ,1,(0,0,0),1)\n",
    "    \n",
    "cv2.imshow(\"originl\",img_original)\n",
    "cv2.waitKey(0)\n",
    "cv2.destroyAllWindows()"
   ]
  },
  {
   "cell_type": "code",
   "execution_count": null,
   "metadata": {},
   "outputs": [],
   "source": []
  },
  {
   "cell_type": "code",
   "execution_count": null,
   "metadata": {},
   "outputs": [],
   "source": []
  }
 ],
 "metadata": {
  "kernelspec": {
   "display_name": "Python 3",
   "language": "python",
   "name": "python3"
  },
  "language_info": {
   "codemirror_mode": {
    "name": "ipython",
    "version": 3
   },
   "file_extension": ".py",
   "mimetype": "text/x-python",
   "name": "python",
   "nbconvert_exporter": "python",
   "pygments_lexer": "ipython3",
   "version": "3.7.9"
  }
 },
 "nbformat": 4,
 "nbformat_minor": 4
}
